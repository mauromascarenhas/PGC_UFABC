{
 "cells": [
  {
   "cell_type": "markdown",
   "metadata": {},
   "source": [
    "# [ Pré-processamento ] Heurísticas computacionais para extração deconhecimento em problemas de maratona deprogramação\n",
    "\n",
    "Antes de elaborar o modelo com os dados obtidos do URI, é necessário realizar o preprocessamento, a fim de que os dados fornecidos como entrada para os algoritmos de aprendizado (estabelecidos durante a concepção do modelo) estejam não estejam corrompidos ou com discrepâncias que possam vir a prejudicar o modelo.\n",
    "\n",
    "### Importando as bibliotecas necessárias\n",
    "\n",
    "Antes de começar, é necessário importar algumas bibliotecas para tratar os dados."
   ]
  },
  {
   "cell_type": "code",
   "execution_count": 1,
   "metadata": {},
   "outputs": [],
   "source": [
    "import os\n",
    "import json\n",
    "import pandas as pd"
   ]
  },
  {
   "cell_type": "markdown",
   "metadata": {},
   "source": [
    "### Declarando constantes de trabalho\n",
    "\n",
    "Criação de \"variáveis de ambiente\" para auxiliar a obtenção de dados."
   ]
  },
  {
   "cell_type": "code",
   "execution_count": 2,
   "metadata": {},
   "outputs": [],
   "source": [
    "# Langs? {PT, EN, ES}\n",
    "LANG_SLUG = \"PT\"\n",
    "ORIGINAL_DATASET_DIR = \"../URI_data/URIScraper_%s/\" % (LANG_SLUG)\n",
    "PREPROCESSED_DATA_DIR = \"../Datasets/\"\n",
    "\n",
    "# JSON files\n",
    "JSON_DATASET_FILES = []"
   ]
  },
  {
   "cell_type": "markdown",
   "metadata": {},
   "source": [
    "### Obtendo os arquivos JSON\n",
    "\n",
    "Obtenção dos arquivos JSON contidos no diretório do dataset atual."
   ]
  },
  {
   "cell_type": "code",
   "execution_count": 3,
   "metadata": {},
   "outputs": [
    {
     "name": "stdout",
     "output_type": "stream",
     "text": [
      "['../URI_data/URIScraper_PT/1001.json', '../URI_data/URIScraper_PT/1002.json', '../URI_data/URIScraper_PT/1003.json', '../URI_data/URIScraper_PT/1004.json', '../URI_data/URIScraper_PT/1005.json', '../URI_data/URIScraper_PT/1006.json', '../URI_data/URIScraper_PT/1007.json', '../URI_data/URIScraper_PT/1008.json', '../URI_data/URIScraper_PT/1009.json', '../URI_data/URIScraper_PT/1010.json']\n"
     ]
    }
   ],
   "source": [
    "for file in os.listdir(ORIGINAL_DATASET_DIR):\n",
    "    if file.endswith(\".json\"):\n",
    "        JSON_DATASET_FILES.append(os.path.join(ORIGINAL_DATASET_DIR, file))\n",
    "        \n",
    "#Prints 10th first elements in the list\n",
    "print(JSON_DATASET_FILES[:10])"
   ]
  },
  {
   "cell_type": "markdown",
   "metadata": {},
   "source": [
    "### Criando o DataFrame\n",
    "\n",
    "Criação do dataframe contendo todos os problemas obtidos."
   ]
  },
  {
   "cell_type": "code",
   "execution_count": 4,
   "metadata": {},
   "outputs": [],
   "source": [
    "problems = pd.DataFrame(columns=['name', 'category', 'level', 'description', 'input', 'output', 'has_images', 's_level', 'submissions', 'solved', 'ratio'])\n",
    "\n",
    "for file in JSON_DATASET_FILES:\n",
    "    #problems.append(pd.read_json(file), ignore_index=True)\n",
    "    with open(file, 'r', encoding=\"utf8\") as f:\n",
    "        json_data = json.loads(f.read())\n",
    "        json_df = pd.DataFrame(data={'name' : json_data['name'], 'category' : json_data['category'], 'level' : json_data['level'], 'description' : json_data['description'], 'input' : json_data['input'], 'output' : json_data['output'], 'has_images' : json_data['has_images'], 's_level' : json_data['statistics']['level'], 'submissions' : json_data['statistics']['submissions'], 'solved' : json_data['statistics']['solved'], 'ratio' : json_data['statistics']['ratio']},\n",
    "                              index=[json_data['id']])\n",
    "        problems = problems.append(json_df)"
   ]
  },
  {
   "cell_type": "markdown",
   "metadata": {},
   "source": [
    "Verificando o novo dataframe criado"
   ]
  },
  {
   "cell_type": "code",
   "execution_count": 5,
   "metadata": {},
   "outputs": [
    {
     "name": "stdout",
     "output_type": "stream",
     "text": [
      "Head:\n",
      "                     name   category level\n",
      "1001  Extremamente Básico  Iniciante     5\n",
      "1002      Área do Círculo  Iniciante     5\n",
      "1003         Soma Simples  Iniciante     2\n",
      "1004      Produto Simples  Iniciante     1\n",
      "1005              Média 1  Iniciante     4\n",
      "1006              Média 2  Iniciante     2\n",
      "1007            Diferença  Iniciante     2\n",
      "1008              Salário  Iniciante     4\n",
      "1009    Salário com Bônus  Iniciante     3\n",
      "1010      Cálculo Simples  Iniciante     3\n",
      "\n",
      "Tail:\n",
      "                          name                  category level\n",
      "2952        A Vida Sustentável                 Iniciante     1\n",
      "2953          Mais um Joguinho                Matemática     1\n",
      "2954                    O Jogo                   Strings     1\n",
      "2955                Truuuuuco!                Matemática     1\n",
      "2956  Derivada de 13 Variáveis                Matemática     1\n",
      "2957                    Sir Vô                    Ad-Hoc     1\n",
      "2958          O Rolê Bad Vibes  Estruturas e Bibliotecas     1\n",
      "2959       Credo com ParaTudo!                    Grafos     1\n",
      "2960              Era Uma Vez…                   Strings     1\n",
      "2961    Ô, Que Tanto de Filme!  Estruturas e Bibliotecas     1\n"
     ]
    }
   ],
   "source": [
    "print(\"Head:\")\n",
    "print(problems.head(10)[['name', 'category', 'level']])\n",
    "print(\"\\nTail:\")\n",
    "print(problems.tail(10)[['name', 'category', 'level']])"
   ]
  },
  {
   "cell_type": "markdown",
   "metadata": {},
   "source": [
    "### Exportação de dados sem tratamento primário"
   ]
  },
  {
   "cell_type": "code",
   "execution_count": 6,
   "metadata": {},
   "outputs": [
    {
     "name": "stdout",
     "output_type": "stream",
     "text": [
      "DataFrame shape:\n",
      "(1944, 11)\n"
     ]
    }
   ],
   "source": [
    "rawDataPath = \"%s%s_00_raw_data.csv\" % (PREPROCESSED_DATA_DIR, LANG_SLUG)\n",
    "problems.to_csv(rawDataPath, sep=\";\")\n",
    "print(\"DataFrame shape:\")\n",
    "print(problems.shape)\n",
    "del rawDataPath"
   ]
  },
  {
   "cell_type": "markdown",
   "metadata": {},
   "source": [
    "### Pré-processamento primário\n",
    "\n",
    "Remoção de problemas sem descrição"
   ]
  },
  {
   "cell_type": "code",
   "execution_count": 7,
   "metadata": {},
   "outputs": [
    {
     "name": "stdout",
     "output_type": "stream",
     "text": [
      "Removed items:\n",
      "Index(['2602', '2603', '2604', '2605', '2606', '2607', '2608', '2609', '2610',\n",
      "       '2611', '2612', '2613', '2614', '2615', '2616', '2617', '2618', '2619',\n",
      "       '2620', '2621', '2622', '2623', '2624', '2625', '2694', '2737', '2738',\n",
      "       '2739', '2740', '2741', '2742', '2743', '2744', '2745', '2746', '2903',\n",
      "       '2904', '2905', '2906', '2907', '2908', '2909', '2910', '2911', '2912',\n",
      "       '2913', '2914', '2915'],\n",
      "      dtype='object')\n",
      "DataFrame shape:\n",
      "(1896, 11)\n"
     ]
    }
   ],
   "source": [
    "# Removes problems without a proper description\n",
    "removed_items = problems[problems[\"description\"] == \"undefined\"].index\n",
    "problems.drop(removed_items, inplace=True)\n",
    "print(\"Removed items:\")\n",
    "print(removed_items)\n",
    "\n",
    "primaryDataPath = \"%s%s_01_primary_data.csv\" % (PREPROCESSED_DATA_DIR, LANG_SLUG)\n",
    "problems.to_csv(primaryDataPath, sep=\";\")\n",
    "print(\"DataFrame shape:\")\n",
    "print(problems.shape)\n",
    "\n",
    "del removed_items\n",
    "del primaryDataPath"
   ]
  },
  {
   "cell_type": "markdown",
   "metadata": {},
   "source": [
    "### Pré-processamento secundário\n",
    "\n",
    "Remoção de problemas sem descrição de entrada e saída (já removido os problemas sem descrição)"
   ]
  },
  {
   "cell_type": "code",
   "execution_count": 8,
   "metadata": {},
   "outputs": [
    {
     "name": "stdout",
     "output_type": "stream",
     "text": [
      "Removed items:\n",
      "Index([], dtype='object')\n",
      "DataFrame shape:\n",
      "(1896, 11)\n"
     ]
    }
   ],
   "source": [
    "removed_items = problems[(problems[\"input\"] == \"undefined\") | (problems[\"output\"] == \"undefined\")].index\n",
    "problems.drop(removed_items, inplace=True)\n",
    "print(\"Removed items:\")\n",
    "print(removed_items)\n",
    "\n",
    "secondaryDataPath = \"%s%s_02_secondary_data.csv\" % (PREPROCESSED_DATA_DIR, LANG_SLUG)\n",
    "problems.to_csv(secondaryDataPath, sep=\";\")\n",
    "print(\"DataFrame shape:\")\n",
    "print(problems.shape)\n",
    "\n",
    "del removed_items\n",
    "del secondaryDataPath"
   ]
  },
  {
   "cell_type": "markdown",
   "metadata": {},
   "source": [
    "### Pré-processamento terciário\n",
    "\n",
    "Remoção de problemas sem estatísticas (já removido os problemas sem descrição ou sem dados de entrada ou saída)"
   ]
  },
  {
   "cell_type": "code",
   "execution_count": 9,
   "metadata": {},
   "outputs": [
    {
     "name": "stdout",
     "output_type": "stream",
     "text": [
      "Removed items:\n",
      "Index(['1812', '1818', '1950', '1995', '2105', '2113', '2209', '2259', '2266',\n",
      "       '2279', '2282', '2283', '2352', '2645'],\n",
      "      dtype='object')\n",
      "DataFrame shape:\n",
      "(1882, 11)\n"
     ]
    }
   ],
   "source": [
    "removed_items = problems[problems[\"s_level\"] == \"undefined\"].index\n",
    "problems.drop(removed_items, inplace=True)\n",
    "print(\"Removed items:\")\n",
    "print(removed_items)\n",
    "\n",
    "terciaryDataPath = \"%s%s_03_terciary_data.csv\" % (PREPROCESSED_DATA_DIR, LANG_SLUG)\n",
    "problems.to_csv(terciaryDataPath, sep=\";\")\n",
    "print(\"DataFrame shape:\")\n",
    "print(problems.shape)\n",
    "\n",
    "del removed_items\n",
    "del terciaryDataPath"
   ]
  }
 ],
 "metadata": {
  "kernelspec": {
   "display_name": "Python 3",
   "language": "python",
   "name": "python3"
  },
  "language_info": {
   "codemirror_mode": {
    "name": "ipython",
    "version": 3
   },
   "file_extension": ".py",
   "mimetype": "text/x-python",
   "name": "python",
   "nbconvert_exporter": "python",
   "pygments_lexer": "ipython3",
   "version": "3.7.3"
  }
 },
 "nbformat": 4,
 "nbformat_minor": 2
}
